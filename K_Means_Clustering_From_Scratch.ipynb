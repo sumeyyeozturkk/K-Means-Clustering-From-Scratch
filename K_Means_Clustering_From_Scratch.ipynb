{
  "nbformat": 4,
  "nbformat_minor": 0,
  "metadata": {
    "colab": {
      "name": "K-Means-Clustering-From-Scratch.ipynb",
      "provenance": [],
      "collapsed_sections": []
    },
    "kernelspec": {
      "name": "python3",
      "display_name": "Python 3"
    },
    "language_info": {
      "name": "python"
    }
  },
  "cells": [
    {
      "cell_type": "code",
      "metadata": {
        "id": "yQi9-Zh9DPbj"
      },
      "source": [
        "import pandas as pd\n",
        "import numpy as np\n",
        "import matplotlib.pyplot as plt\n",
        "import warnings\n",
        "\n",
        "warnings.filterwarnings('ignore')"
      ],
      "execution_count": 36,
      "outputs": []
    },
    {
      "cell_type": "code",
      "metadata": {
        "colab": {
          "base_uri": "https://localhost:8080/",
          "height": 204
        },
        "id": "pjyFFxkcLkJ3",
        "outputId": "46a06a32-9f70-4d60-e964-8ee05790ff6d"
      },
      "source": [
        "path = \"/content/cluster_data.csv\"\n",
        "cluster_data = pd.read_csv(path)\n",
        "cluster_data.drop('Unnamed: 0',axis = 1,inplace = True)\n",
        "cluster_data.head()"
      ],
      "execution_count": 37,
      "outputs": [
        {
          "output_type": "execute_result",
          "data": {
            "text/html": [
              "<div>\n",
              "<style scoped>\n",
              "    .dataframe tbody tr th:only-of-type {\n",
              "        vertical-align: middle;\n",
              "    }\n",
              "\n",
              "    .dataframe tbody tr th {\n",
              "        vertical-align: top;\n",
              "    }\n",
              "\n",
              "    .dataframe thead th {\n",
              "        text-align: right;\n",
              "    }\n",
              "</style>\n",
              "<table border=\"1\" class=\"dataframe\">\n",
              "  <thead>\n",
              "    <tr style=\"text-align: right;\">\n",
              "      <th></th>\n",
              "      <th>0</th>\n",
              "      <th>1</th>\n",
              "    </tr>\n",
              "  </thead>\n",
              "  <tbody>\n",
              "    <tr>\n",
              "      <th>0</th>\n",
              "      <td>2.336858</td>\n",
              "      <td>2.265735</td>\n",
              "    </tr>\n",
              "    <tr>\n",
              "      <th>1</th>\n",
              "      <td>1.327879</td>\n",
              "      <td>1.535489</td>\n",
              "    </tr>\n",
              "    <tr>\n",
              "      <th>2</th>\n",
              "      <td>2.822353</td>\n",
              "      <td>2.418167</td>\n",
              "    </tr>\n",
              "    <tr>\n",
              "      <th>3</th>\n",
              "      <td>1.521233</td>\n",
              "      <td>1.140626</td>\n",
              "    </tr>\n",
              "    <tr>\n",
              "      <th>4</th>\n",
              "      <td>2.953332</td>\n",
              "      <td>2.601195</td>\n",
              "    </tr>\n",
              "  </tbody>\n",
              "</table>\n",
              "</div>"
            ],
            "text/plain": [
              "          0         1\n",
              "0  2.336858  2.265735\n",
              "1  1.327879  1.535489\n",
              "2  2.822353  2.418167\n",
              "3  1.521233  1.140626\n",
              "4  2.953332  2.601195"
            ]
          },
          "metadata": {
            "tags": []
          },
          "execution_count": 37
        }
      ]
    },
    {
      "cell_type": "markdown",
      "metadata": {
        "id": "cX4qGLSIL4o6"
      },
      "source": [
        "\n",
        "**Implementing K-Means Algorithm**\n",
        "\n",
        "**Steps:**\n",
        "\n",
        "1.   Firslt, we pick k points as the initial centroids from the data set, either randomly or the fist K.\n",
        "2.   Next, we find the \"Euclidean distance\" of each point in the data set with the identified k points — cluster centroids.\n",
        "3.   Next, we assign each data point to the closest centroid using the distance found in the previous step.\n",
        "4.   Next, we find the new centroid by taking the average of the points in each cluster group.\n",
        "5.   Finally, we repeat 2 to 4 for a fixed number of iteration or till the centroids don’t change."
      ]
    },
    {
      "cell_type": "code",
      "metadata": {
        "colab": {
          "base_uri": "https://localhost:8080/",
          "height": 483
        },
        "id": "6C3GKxWKL2vE",
        "outputId": "6308788c-dd65-4ea1-bdaf-d4e111187386"
      },
      "source": [
        "cluster_data = np.array(cluster_data)\n",
        "plt.figure(figsize=(8,8))\n",
        "plt.scatter(cluster_data[:,0], cluster_data[:,1])\n",
        "plt.show()"
      ],
      "execution_count": 39,
      "outputs": [
        {
          "output_type": "display_data",
          "data": {
            "image/png": "[encoded data removed]",
            "text/plain": [
              "<Figure size 576x576 with 1 Axes>"
            ]
          },
          "metadata": {
            "tags": [],
            "needs_background": "light"
          }
        }
      ]
    },
    {
      "cell_type": "code",
      "metadata": {
        "id": "NT48IdQpL9Cb"
      },
      "source": [
        "class K_Means():\n",
        "    def __init__(self, k):\n",
        "        self.k = k\n",
        "        self.tolerance_val = 0.001\n",
        "        self.max_iteration = 500\n",
        "   \n",
        "    def calculate_distance(self,x1,x2):\n",
        "      return (sum((x1 - x2)**2))**0.5\n",
        "\n",
        "    def fit(self,data):\n",
        "\n",
        "        self.centers = {}\n",
        "        #initialize the centers, the first 'k' elements in the dataset will be our initial centers\n",
        "\n",
        "        for i in range(self.k):\n",
        "            self.centers[i] = data[i]\n",
        "        \n",
        "        for i in range(self.max_iteration):\n",
        "            self.classes = {}\n",
        "            for i in range(self.k):\n",
        "                self.classes[i] = []\n",
        "\n",
        "            #find the distance between the point and cluster; choose the nearest centroid\n",
        "            for point in data:\n",
        "                distances = [self.calculate_distance(point,self.centers[center]) for center in self.centers]\n",
        "                cluster_index = distances.index(min(distances))\n",
        "                self.classes[cluster_index].append(point)\n",
        "\n",
        "            centers_old = dict(self.centers)\n",
        "            #average the cluster datapoints to re-calculate the centers\n",
        "\n",
        "            for cluster_index in self.classes:\n",
        "                self.centers[cluster_index] = np.average(self.classes[cluster_index],axis=0)\n",
        "\n",
        "            isOptimal = True\n",
        "\n",
        "            for c in self.centers:\n",
        "                original_centers = centers_old[c]\n",
        "                new_centers = self.centers[c]\n",
        "                if np.sum((new_centers-original_centers)/original_centers*100.0) > self.tolerance_val:\n",
        "                    isOptimal = False\n",
        "\n",
        "            #the centers don't change their positions much(more than our tolerance_val)\n",
        "            if isOptimal:\n",
        "                break\n",
        "            return self.classes"
      ],
      "execution_count": 40,
      "outputs": []
    },
    {
      "cell_type": "markdown",
      "metadata": {
        "id": "TyxCVazuMGFT"
      },
      "source": [
        "### **Plot the K-Means for K = 2**\n"
      ]
    },
    {
      "cell_type": "code",
      "metadata": {
        "colab": {
          "base_uri": "https://localhost:8080/",
          "height": 592
        },
        "id": "q-MxKheqMChp",
        "outputId": "42ddd4d5-d796-4dad-a9ae-acee883153b2"
      },
      "source": [
        "colors = ['purple','orange','yellow']\n",
        "plt.figure(figsize=(10,10))\n",
        "\n",
        "k_means_model = K_Means(2)\n",
        "classes = k_means_model.fit(cluster_data)\n",
        "\n",
        "for i in classes:\n",
        "    color = colors[i]\n",
        "    for points in classes[i]:\n",
        "        plt.scatter(points[0], points[1], color=color, s=10, linewidths=5)\n",
        "plt.show()"
      ],
      "execution_count": 41,
      "outputs": [
        {
          "output_type": "display_data",
          "data": {
            "image/png": "[encoded data removed]",
            "text/plain": [
              "<Figure size 720x720 with 1 Axes>"
            ]
          },
          "metadata": {
            "tags": [],
            "needs_background": "light"
          }
        }
      ]
    },
    {
      "cell_type": "markdown",
      "metadata": {
        "id": "x1Zqa7kaMONb"
      },
      "source": [
        "### **Plot The K-Means for K = 3**"
      ]
    },
    {
      "cell_type": "code",
      "metadata": {
        "colab": {
          "base_uri": "https://localhost:8080/",
          "height": 592
        },
        "id": "pm1RGoLiMI8U",
        "outputId": "6149d5ac-47ba-415f-f1ec-6e342972b705"
      },
      "source": [
        "plt.figure(figsize=(10,10))\n",
        "k_means_model = K_Means(3)\n",
        "classes = k_means_model.fit(cluster_data)\n",
        "\n",
        "for i in classes:\n",
        "    color = colors[i]\n",
        "    for points in classes[i]:\n",
        "        plt.scatter(points[0], points[1], color=color, s=10, linewidths=5)\n",
        "plt.show()"
      ],
      "execution_count": 42,
      "outputs": [
        {
          "output_type": "display_data",
          "data": {
            "image/png": "[encoded data removed]",
            "text/plain": [
              "<Figure size 720x720 with 1 Axes>"
            ]
          },
          "metadata": {
            "tags": [],
            "needs_background": "light"
          }
        }
      ]
    },
    {
      "cell_type": "code",
      "metadata": {
        "id": "26HoJdy4MR6a"
      },
      "source": [
        ""
      ],
      "execution_count": null,
      "outputs": []
    }
  ]
}